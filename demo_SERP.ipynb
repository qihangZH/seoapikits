{
 "cells": [
  {
   "cell_type": "code",
   "execution_count": 1,
   "metadata": {
    "collapsed": true
   },
   "outputs": [],
   "source": [
    "import pandas as pd\n",
    "import seoapikits"
   ]
  },
  {
   "cell_type": "code",
   "execution_count": 2,
   "outputs": [],
   "source": [
    "# https://cdn.dataforseo.com/v3/examples/python/python_Client.zip\n",
    "keywords_list = pd.read_excel('./sample_data/await_finding_url.xlsx', engine='openpyxl')['company_name_cv'].to_list()[:5]"
   ],
   "metadata": {
    "collapsed": false
   }
  },
  {
   "cell_type": "markdown",
   "source": [
    "We read the sample data, we only pick the first 5, then Initialize the cls to search for"
   ],
   "metadata": {
    "collapsed": false
   }
  },
  {
   "cell_type": "code",
   "execution_count": 3,
   "outputs": [],
   "source": [
    "username = input(\"Enter the username: \")\n",
    "password = input(\"Enter the password: \")\n",
    "search_api_cls = seoapikits.SERP.SERPAPI(username=username, password=password)"
   ],
   "metadata": {
    "collapsed": false
   }
  },
  {
   "cell_type": "markdown",
   "source": [
    "After, we try to post the data, which means we send request to the seodata server, and we can get the task id, Then we could directly got the result by using get. However if request \"get\" so fast it could not finish search and cast error, so we can use timeout limit to make it to retry. default freq is 5 seconds and timeout is 0 seconds, However you can reset it to make better usage, here is the example"
   ],
   "metadata": {
    "collapsed": false
   }
  },
  {
   "cell_type": "code",
   "execution_count": 7,
   "outputs": [
    {
     "data": {
      "text/plain": "                                     id                               keyword\n0  08251154-6469-0066-0000-0df17972155c  \"Johnnie\" Johnson Housing Trust Ltd.\n1  08251154-6469-0066-0000-acee9082b3d4                              051 Subs\n2  08251154-6469-0066-0000-36bd33c0fd05              063 Loan Company Limited\n3  08251154-6469-0066-0000-6509f7c175f9          0880 Santander Santibañez Sl\n4  08251154-6469-0066-0000-1926aff8cbbf                           0km Finance",
      "text/html": "<div>\n<style scoped>\n    .dataframe tbody tr th:only-of-type {\n        vertical-align: middle;\n    }\n\n    .dataframe tbody tr th {\n        vertical-align: top;\n    }\n\n    .dataframe thead th {\n        text-align: right;\n    }\n</style>\n<table border=\"1\" class=\"dataframe\">\n  <thead>\n    <tr style=\"text-align: right;\">\n      <th></th>\n      <th>id</th>\n      <th>keyword</th>\n    </tr>\n  </thead>\n  <tbody>\n    <tr>\n      <th>0</th>\n      <td>08251154-6469-0066-0000-0df17972155c</td>\n      <td>\"Johnnie\" Johnson Housing Trust Ltd.</td>\n    </tr>\n    <tr>\n      <th>1</th>\n      <td>08251154-6469-0066-0000-acee9082b3d4</td>\n      <td>051 Subs</td>\n    </tr>\n    <tr>\n      <th>2</th>\n      <td>08251154-6469-0066-0000-36bd33c0fd05</td>\n      <td>063 Loan Company Limited</td>\n    </tr>\n    <tr>\n      <th>3</th>\n      <td>08251154-6469-0066-0000-6509f7c175f9</td>\n      <td>0880 Santander Santibañez Sl</td>\n    </tr>\n    <tr>\n      <th>4</th>\n      <td>08251154-6469-0066-0000-1926aff8cbbf</td>\n      <td>0km Finance</td>\n    </tr>\n  </tbody>\n</table>\n</div>"
     },
     "execution_count": 7,
     "metadata": {},
     "output_type": "execute_result"
    }
   ],
   "source": [
    "task_post_df = search_api_cls.tasks_seq_post(keyword_list=keywords_list,res_type='df')\n",
    "task_post_df"
   ],
   "metadata": {
    "collapsed": false
   }
  },
  {
   "cell_type": "code",
   "execution_count": 8,
   "outputs": [
    {
     "name": "stderr",
     "output_type": "stream",
     "text": [
      "  0%|          | 0/5 [00:00<?, ?it/s]\n"
     ]
    },
    {
     "ename": "ValueError",
     "evalue": "Error-timeout for not get a efficient response from Seodata",
     "output_type": "error",
     "traceback": [
      "\u001B[1;31m---------------------------------------------------------------------------\u001B[0m",
      "\u001B[1;31mValueError\u001B[0m                                Traceback (most recent call last)",
      "Cell \u001B[1;32mIn[8], line 1\u001B[0m\n\u001B[1;32m----> 1\u001B[0m task_get_df \u001B[38;5;241m=\u001B[39m \u001B[43msearch_api_cls\u001B[49m\u001B[38;5;241;43m.\u001B[39;49m\u001B[43mtasks_seq_get_df\u001B[49m\u001B[43m(\u001B[49m\u001B[43mtask_post_df\u001B[49m\u001B[43m[\u001B[49m\u001B[38;5;124;43m'\u001B[39;49m\u001B[38;5;124;43mid\u001B[39;49m\u001B[38;5;124;43m'\u001B[39;49m\u001B[43m]\u001B[49m\u001B[43m,\u001B[49m\u001B[43m \u001B[49m\u001B[43mtimeout_limit\u001B[49m\u001B[38;5;241;43m=\u001B[39;49m\u001B[38;5;241;43m0\u001B[39;49m\u001B[43m)\u001B[49m\n\u001B[0;32m      2\u001B[0m task_get_df\n",
      "File \u001B[1;32mD:\\Appfiles\\Dropbox_69449_files\\Dropbox\\Legion5ip\\NUS_RA\\seodatasearch\\seodatasearch\\SERP.py:153\u001B[0m, in \u001B[0;36mSERPAPI.tasks_seq_get_df\u001B[1;34m(self, task_id_listarrser, timeout_limit, retry_freq)\u001B[0m\n\u001B[0;32m    150\u001B[0m res_df_list \u001B[38;5;241m=\u001B[39m []\n\u001B[0;32m    151\u001B[0m \u001B[38;5;28;01mfor\u001B[39;00m taskid \u001B[38;5;129;01min\u001B[39;00m tqdm\u001B[38;5;241m.\u001B[39mtqdm(task_id_listarrser):\n\u001B[0;32m    152\u001B[0m     res_df_list\u001B[38;5;241m.\u001B[39mappend(\n\u001B[1;32m--> 153\u001B[0m         \u001B[38;5;28;43mself\u001B[39;49m\u001B[38;5;241;43m.\u001B[39;49m\u001B[43mtask_get\u001B[49m\u001B[43m(\u001B[49m\n\u001B[0;32m    154\u001B[0m \u001B[43m            \u001B[49m\u001B[43mtask_id\u001B[49m\u001B[38;5;241;43m=\u001B[39;49m\u001B[43mtaskid\u001B[49m\u001B[43m,\u001B[49m\n\u001B[0;32m    155\u001B[0m \u001B[43m            \u001B[49m\u001B[43mres_type\u001B[49m\u001B[38;5;241;43m=\u001B[39;49m\u001B[38;5;124;43m'\u001B[39;49m\u001B[38;5;124;43mdf\u001B[39;49m\u001B[38;5;124;43m'\u001B[39;49m\u001B[43m,\u001B[49m\n\u001B[0;32m    156\u001B[0m \u001B[43m            \u001B[49m\u001B[43mtimeout_limit\u001B[49m\u001B[38;5;241;43m=\u001B[39;49m\u001B[43mtimeout_limit\u001B[49m\u001B[43m,\u001B[49m\n\u001B[0;32m    157\u001B[0m \u001B[43m            \u001B[49m\u001B[43mretry_freq\u001B[49m\u001B[38;5;241;43m=\u001B[39;49m\u001B[43mretry_freq\u001B[49m\n\u001B[0;32m    158\u001B[0m \u001B[43m        \u001B[49m\u001B[43m)\u001B[49m\n\u001B[0;32m    159\u001B[0m     )\n\u001B[0;32m    160\u001B[0m \u001B[38;5;28;01mreturn\u001B[39;00m pd\u001B[38;5;241m.\u001B[39mconcat(res_df_list, axis\u001B[38;5;241m=\u001B[39m\u001B[38;5;241m0\u001B[39m)\u001B[38;5;241m.\u001B[39mreset_index(drop\u001B[38;5;241m=\u001B[39m\u001B[38;5;28;01mTrue\u001B[39;00m)\n",
      "File \u001B[1;32mD:\\Appfiles\\Dropbox_69449_files\\Dropbox\\Legion5ip\\NUS_RA\\seodatasearch\\seodatasearch\\SERP.py:124\u001B[0m, in \u001B[0;36mSERPAPI.task_get\u001B[1;34m(self, task_id, res_type, timeout_limit, retry_freq)\u001B[0m\n\u001B[0;32m    120\u001B[0m \u001B[38;5;28;01mif\u001B[39;00m (\u001B[38;5;129;01mnot\u001B[39;00m get_res[\u001B[38;5;124m\"\u001B[39m\u001B[38;5;124mtasks\u001B[39m\u001B[38;5;124m\"\u001B[39m][\u001B[38;5;241m0\u001B[39m][\u001B[38;5;124m\"\u001B[39m\u001B[38;5;124mresult\u001B[39m\u001B[38;5;124m\"\u001B[39m]) \u001B[38;5;129;01mor\u001B[39;00m (get_res[\u001B[38;5;124m'\u001B[39m\u001B[38;5;124mstatus_code\u001B[39m\u001B[38;5;124m'\u001B[39m] \u001B[38;5;241m!=\u001B[39m \u001B[38;5;241m20000\u001B[39m):\n\u001B[0;32m    122\u001B[0m     \u001B[38;5;28;01mif\u001B[39;00m (time\u001B[38;5;241m.\u001B[39mtime() \u001B[38;5;241m-\u001B[39m timeout_start) \u001B[38;5;241m>\u001B[39m\u001B[38;5;241m=\u001B[39m timeout_limit:\n\u001B[0;32m    123\u001B[0m         \u001B[38;5;66;03m# if time out then have a value error cast\u001B[39;00m\n\u001B[1;32m--> 124\u001B[0m         \u001B[38;5;28;01mraise\u001B[39;00m \u001B[38;5;167;01mValueError\u001B[39;00m(\u001B[38;5;124m'\u001B[39m\u001B[38;5;124mError-timeout for not get a efficient response from Seodata\u001B[39m\u001B[38;5;124m'\u001B[39m)\n\u001B[0;32m    125\u001B[0m     \u001B[38;5;28;01melse\u001B[39;00m:\n\u001B[0;32m    126\u001B[0m         \u001B[38;5;66;03m# if time not out then retry..., sleep for seconds\u001B[39;00m\n\u001B[0;32m    127\u001B[0m         time\u001B[38;5;241m.\u001B[39msleep(retry_freq)\n",
      "\u001B[1;31mValueError\u001B[0m: Error-timeout for not get a efficient response from Seodata"
     ]
    }
   ],
   "source": [
    "task_get_df = search_api_cls.tasks_seq_get_df(task_post_df['id'], timeout_limit=0)\n",
    "task_get_df"
   ],
   "metadata": {
    "collapsed": false
   }
  },
  {
   "cell_type": "markdown",
   "source": [
    "You can see, so fast search will result for not enough time for server to response. So we take time to retry."
   ],
   "metadata": {
    "collapsed": false
   }
  },
  {
   "cell_type": "code",
   "execution_count": 9,
   "outputs": [
    {
     "data": {
      "text/plain": "                                     id                               keyword\n0  08251154-6469-0066-0000-211f884541a5  \"Johnnie\" Johnson Housing Trust Ltd.\n1  08251154-6469-0066-0000-bcbda1a0c597                              051 Subs\n2  08251154-6469-0066-0000-267a97f3fc19              063 Loan Company Limited\n3  08251154-6469-0066-0000-f5e1e71f22a7          0880 Santander Santibañez Sl\n4  08251154-6469-0066-0000-2247ce9d2cb0                           0km Finance",
      "text/html": "<div>\n<style scoped>\n    .dataframe tbody tr th:only-of-type {\n        vertical-align: middle;\n    }\n\n    .dataframe tbody tr th {\n        vertical-align: top;\n    }\n\n    .dataframe thead th {\n        text-align: right;\n    }\n</style>\n<table border=\"1\" class=\"dataframe\">\n  <thead>\n    <tr style=\"text-align: right;\">\n      <th></th>\n      <th>id</th>\n      <th>keyword</th>\n    </tr>\n  </thead>\n  <tbody>\n    <tr>\n      <th>0</th>\n      <td>08251154-6469-0066-0000-211f884541a5</td>\n      <td>\"Johnnie\" Johnson Housing Trust Ltd.</td>\n    </tr>\n    <tr>\n      <th>1</th>\n      <td>08251154-6469-0066-0000-bcbda1a0c597</td>\n      <td>051 Subs</td>\n    </tr>\n    <tr>\n      <th>2</th>\n      <td>08251154-6469-0066-0000-267a97f3fc19</td>\n      <td>063 Loan Company Limited</td>\n    </tr>\n    <tr>\n      <th>3</th>\n      <td>08251154-6469-0066-0000-f5e1e71f22a7</td>\n      <td>0880 Santander Santibañez Sl</td>\n    </tr>\n    <tr>\n      <th>4</th>\n      <td>08251154-6469-0066-0000-2247ce9d2cb0</td>\n      <td>0km Finance</td>\n    </tr>\n  </tbody>\n</table>\n</div>"
     },
     "execution_count": 9,
     "metadata": {},
     "output_type": "execute_result"
    }
   ],
   "source": [
    "task_post_df = search_api_cls.tasks_seq_post(keyword_list=keywords_list,res_type='df')\n",
    "task_post_df"
   ],
   "metadata": {
    "collapsed": false
   }
  },
  {
   "cell_type": "code",
   "execution_count": 10,
   "outputs": [
    {
     "name": "stderr",
     "output_type": "stream",
     "text": [
      "100%|██████████| 5/5 [00:11<00:00,  2.34s/it]\n"
     ]
    }
   ],
   "source": [
    "task_get_df = search_api_cls.tasks_seq_get_df(task_post_df['id'], timeout_limit=30)"
   ],
   "metadata": {
    "collapsed": false
   }
  },
  {
   "cell_type": "code",
   "execution_count": 12,
   "outputs": [
    {
     "data": {
      "text/plain": "        type  rank_group  rank_absolute  \\\n0    organic           1              1   \n1    organic           2              2   \n2    organic           3              4   \n3    organic           4              5   \n4    organic           5              6   \n..       ...         ...            ...   \n396  organic          95             96   \n397  organic          96             97   \n398  organic          97             98   \n399  organic          98             99   \n400  organic          99            100   \n\n                                                domain  \\\n0                                  www.jjhousing.co.uk   \n1                         www.findahomejjhousing.co.uk   \n2                                      uk.linkedin.com   \n3                                     www.facebook.com   \n4    find-and-update.company-information.service.go...   \n..                                                 ...   \n396                                    www.autozel.com   \n397                              www.autoexpress.co.uk   \n398                                www.rionegro.com.ar   \n399                                     www.subaru.com   \n400                                  www.subaru.com.au   \n\n                                                 title  \\\n0         Johnnie Johnson Housing: Housing Association   \n1                                   Login - JJ Housing   \n2                              Johnnie Johnson Housing   \n3       Johnnie Johnson Housing | Charity Organization   \n4    \"johnnie\" johnson housing trust limited - Comp...   \n..                                                 ...   \n396  Do you need Personal Finance :: AutoZel.com | ...   \n397                   Top 10 cheapest cars to buy 2023   \n398  La Justicia falló a favor de un hombre de Vied...   \n399  Subaru Cars, SUVs, Crossovers & Hybrids | Suba...   \n400  Subaru Australia: New Cars, Used Cars, Hybrid ...   \n\n                                           description  \\\n0    We are Johnnie Johnson Housing ... We are a no...   \n1    Johnnie Johnson Housing Limited is a Registere...   \n2    Johnnie Johnson Housing is a not-for-profit ho...   \n3    Johnnie Johnson Housing, Cheadle Hulme. 1260 l...   \n4    \"JOHNNIE\" JOHNSON HOUSING TRUST LIMITED - Free...   \n..                                                 ...   \n396  Do you need Personal Finance - AED 600,000. Ne...   \n397  ... miles on the clock, but the appeal of a br...   \n398  S.A. cambió el precio del auto 0km y el client...   \n399  Finance and lease offers cannot be combined wi...   \n400  Explore our range of new or used cars and pric...   \n\n                                                   url  \\\n0                         https://www.jjhousing.co.uk/   \n1          https://www.findahomejjhousing.co.uk/login/   \n2    https://uk.linkedin.com/company/johnniejohnson...   \n3             https://www.facebook.com/jjhousingtrust/   \n4    https://find-and-update.company-information.se...   \n..                                                 ...   \n396  https://www.autozel.com/CarDetails.aspx?CarID=...   \n397  https://www.autoexpress.co.uk/best-cars-vans/3...   \n398  https://www.rionegro.com.ar/justicia/la-justic...   \n399                  https://www.subaru.com/index.html   \n400                         https://www.subaru.com.au/   \n\n                                            breadcrumb  \\\n0                          https://www.jjhousing.co.uk   \n1         https://www.findahomejjhousing.co.uk › login   \n2    https://uk.linkedin.com › company › johnniejoh...   \n3            https://www.facebook.com › jjhousingtrust   \n4    https://find-and-update.company-information.se...   \n..                                                 ...   \n396  https://www.autozel.com › CarDetails › Title=d...   \n397  https://www.autoexpress.co.uk › ... › Best car...   \n398             https://www.rionegro.com.ar › justicia   \n399                             https://www.subaru.com   \n400                          https://www.subaru.com.au   \n\n                                       id  \\\n0    08251154-6469-0066-0000-211f884541a5   \n1    08251154-6469-0066-0000-211f884541a5   \n2    08251154-6469-0066-0000-211f884541a5   \n3    08251154-6469-0066-0000-211f884541a5   \n4    08251154-6469-0066-0000-211f884541a5   \n..                                    ...   \n396  08251154-6469-0066-0000-2247ce9d2cb0   \n397  08251154-6469-0066-0000-2247ce9d2cb0   \n398  08251154-6469-0066-0000-2247ce9d2cb0   \n399  08251154-6469-0066-0000-2247ce9d2cb0   \n400  08251154-6469-0066-0000-2247ce9d2cb0   \n\n                                  keyword  \n0    \"Johnnie\" Johnson Housing Trust Ltd.  \n1    \"Johnnie\" Johnson Housing Trust Ltd.  \n2    \"Johnnie\" Johnson Housing Trust Ltd.  \n3    \"Johnnie\" Johnson Housing Trust Ltd.  \n4    \"Johnnie\" Johnson Housing Trust Ltd.  \n..                                    ...  \n396                           0km Finance  \n397                           0km Finance  \n398                           0km Finance  \n399                           0km Finance  \n400                           0km Finance  \n\n[401 rows x 10 columns]",
      "text/html": "<div>\n<style scoped>\n    .dataframe tbody tr th:only-of-type {\n        vertical-align: middle;\n    }\n\n    .dataframe tbody tr th {\n        vertical-align: top;\n    }\n\n    .dataframe thead th {\n        text-align: right;\n    }\n</style>\n<table border=\"1\" class=\"dataframe\">\n  <thead>\n    <tr style=\"text-align: right;\">\n      <th></th>\n      <th>type</th>\n      <th>rank_group</th>\n      <th>rank_absolute</th>\n      <th>domain</th>\n      <th>title</th>\n      <th>description</th>\n      <th>url</th>\n      <th>breadcrumb</th>\n      <th>id</th>\n      <th>keyword</th>\n    </tr>\n  </thead>\n  <tbody>\n    <tr>\n      <th>0</th>\n      <td>organic</td>\n      <td>1</td>\n      <td>1</td>\n      <td>www.jjhousing.co.uk</td>\n      <td>Johnnie Johnson Housing: Housing Association</td>\n      <td>We are Johnnie Johnson Housing ... We are a no...</td>\n      <td>https://www.jjhousing.co.uk/</td>\n      <td>https://www.jjhousing.co.uk</td>\n      <td>08251154-6469-0066-0000-211f884541a5</td>\n      <td>\"Johnnie\" Johnson Housing Trust Ltd.</td>\n    </tr>\n    <tr>\n      <th>1</th>\n      <td>organic</td>\n      <td>2</td>\n      <td>2</td>\n      <td>www.findahomejjhousing.co.uk</td>\n      <td>Login - JJ Housing</td>\n      <td>Johnnie Johnson Housing Limited is a Registere...</td>\n      <td>https://www.findahomejjhousing.co.uk/login/</td>\n      <td>https://www.findahomejjhousing.co.uk › login</td>\n      <td>08251154-6469-0066-0000-211f884541a5</td>\n      <td>\"Johnnie\" Johnson Housing Trust Ltd.</td>\n    </tr>\n    <tr>\n      <th>2</th>\n      <td>organic</td>\n      <td>3</td>\n      <td>4</td>\n      <td>uk.linkedin.com</td>\n      <td>Johnnie Johnson Housing</td>\n      <td>Johnnie Johnson Housing is a not-for-profit ho...</td>\n      <td>https://uk.linkedin.com/company/johnniejohnson...</td>\n      <td>https://uk.linkedin.com › company › johnniejoh...</td>\n      <td>08251154-6469-0066-0000-211f884541a5</td>\n      <td>\"Johnnie\" Johnson Housing Trust Ltd.</td>\n    </tr>\n    <tr>\n      <th>3</th>\n      <td>organic</td>\n      <td>4</td>\n      <td>5</td>\n      <td>www.facebook.com</td>\n      <td>Johnnie Johnson Housing | Charity Organization</td>\n      <td>Johnnie Johnson Housing, Cheadle Hulme. 1260 l...</td>\n      <td>https://www.facebook.com/jjhousingtrust/</td>\n      <td>https://www.facebook.com › jjhousingtrust</td>\n      <td>08251154-6469-0066-0000-211f884541a5</td>\n      <td>\"Johnnie\" Johnson Housing Trust Ltd.</td>\n    </tr>\n    <tr>\n      <th>4</th>\n      <td>organic</td>\n      <td>5</td>\n      <td>6</td>\n      <td>find-and-update.company-information.service.go...</td>\n      <td>\"johnnie\" johnson housing trust limited - Comp...</td>\n      <td>\"JOHNNIE\" JOHNSON HOUSING TRUST LIMITED - Free...</td>\n      <td>https://find-and-update.company-information.se...</td>\n      <td>https://find-and-update.company-information.se...</td>\n      <td>08251154-6469-0066-0000-211f884541a5</td>\n      <td>\"Johnnie\" Johnson Housing Trust Ltd.</td>\n    </tr>\n    <tr>\n      <th>...</th>\n      <td>...</td>\n      <td>...</td>\n      <td>...</td>\n      <td>...</td>\n      <td>...</td>\n      <td>...</td>\n      <td>...</td>\n      <td>...</td>\n      <td>...</td>\n      <td>...</td>\n    </tr>\n    <tr>\n      <th>396</th>\n      <td>organic</td>\n      <td>95</td>\n      <td>96</td>\n      <td>www.autozel.com</td>\n      <td>Do you need Personal Finance :: AutoZel.com | ...</td>\n      <td>Do you need Personal Finance - AED 600,000. Ne...</td>\n      <td>https://www.autozel.com/CarDetails.aspx?CarID=...</td>\n      <td>https://www.autozel.com › CarDetails › Title=d...</td>\n      <td>08251154-6469-0066-0000-2247ce9d2cb0</td>\n      <td>0km Finance</td>\n    </tr>\n    <tr>\n      <th>397</th>\n      <td>organic</td>\n      <td>96</td>\n      <td>97</td>\n      <td>www.autoexpress.co.uk</td>\n      <td>Top 10 cheapest cars to buy 2023</td>\n      <td>... miles on the clock, but the appeal of a br...</td>\n      <td>https://www.autoexpress.co.uk/best-cars-vans/3...</td>\n      <td>https://www.autoexpress.co.uk › ... › Best car...</td>\n      <td>08251154-6469-0066-0000-2247ce9d2cb0</td>\n      <td>0km Finance</td>\n    </tr>\n    <tr>\n      <th>398</th>\n      <td>organic</td>\n      <td>97</td>\n      <td>98</td>\n      <td>www.rionegro.com.ar</td>\n      <td>La Justicia falló a favor de un hombre de Vied...</td>\n      <td>S.A. cambió el precio del auto 0km y el client...</td>\n      <td>https://www.rionegro.com.ar/justicia/la-justic...</td>\n      <td>https://www.rionegro.com.ar › justicia</td>\n      <td>08251154-6469-0066-0000-2247ce9d2cb0</td>\n      <td>0km Finance</td>\n    </tr>\n    <tr>\n      <th>399</th>\n      <td>organic</td>\n      <td>98</td>\n      <td>99</td>\n      <td>www.subaru.com</td>\n      <td>Subaru Cars, SUVs, Crossovers &amp; Hybrids | Suba...</td>\n      <td>Finance and lease offers cannot be combined wi...</td>\n      <td>https://www.subaru.com/index.html</td>\n      <td>https://www.subaru.com</td>\n      <td>08251154-6469-0066-0000-2247ce9d2cb0</td>\n      <td>0km Finance</td>\n    </tr>\n    <tr>\n      <th>400</th>\n      <td>organic</td>\n      <td>99</td>\n      <td>100</td>\n      <td>www.subaru.com.au</td>\n      <td>Subaru Australia: New Cars, Used Cars, Hybrid ...</td>\n      <td>Explore our range of new or used cars and pric...</td>\n      <td>https://www.subaru.com.au/</td>\n      <td>https://www.subaru.com.au</td>\n      <td>08251154-6469-0066-0000-2247ce9d2cb0</td>\n      <td>0km Finance</td>\n    </tr>\n  </tbody>\n</table>\n<p>401 rows × 10 columns</p>\n</div>"
     },
     "execution_count": 12,
     "metadata": {},
     "output_type": "execute_result"
    }
   ],
   "source": [
    "pd.merge(task_get_df, task_post_df, on='id', validate='many_to_one')"
   ],
   "metadata": {
    "collapsed": false
   }
  }
 ],
 "metadata": {
  "kernelspec": {
   "display_name": "Python 3",
   "language": "python",
   "name": "python3"
  },
  "language_info": {
   "codemirror_mode": {
    "name": "ipython",
    "version": 2
   },
   "file_extension": ".py",
   "mimetype": "text/x-python",
   "name": "python",
   "nbconvert_exporter": "python",
   "pygments_lexer": "ipython2",
   "version": "2.7.6"
  }
 },
 "nbformat": 4,
 "nbformat_minor": 0
}
