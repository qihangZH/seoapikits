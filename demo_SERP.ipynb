{
 "cells": [
  {
   "cell_type": "code",
   "execution_count": 1,
   "metadata": {
    "collapsed": true
   },
   "outputs": [],
   "source": [
    "import pandas as pd\n",
    "import seoapikits"
   ]
  },
  {
   "cell_type": "code",
   "execution_count": 2,
   "outputs": [],
   "source": [
    "# https://cdn.dataforseo.com/v3/examples/python/python_Client.zip\n",
    "keywords_list = pd.read_excel('./sample_data/await_finding_url.xlsx', engine='openpyxl')['company_name_cv'].to_list()[:5]"
   ],
   "metadata": {
    "collapsed": false
   }
  },
  {
   "cell_type": "markdown",
   "source": [
    "We read the sample data, we only pick the first 5, then Initialize the cls to search for"
   ],
   "metadata": {
    "collapsed": false
   }
  },
  {
   "cell_type": "code",
   "execution_count": 3,
   "outputs": [],
   "source": [
    "username = input(\"Enter the username: \")\n",
    "password = input(\"Enter the password: \")\n",
    "search_api_cls = seoapikits.SERP.SERPAPI(username=username, password=password)"
   ],
   "metadata": {
    "collapsed": false
   }
  },
  {
   "cell_type": "markdown",
   "source": [
    "After, we try to post the data, which means we send request to the seodata server, and we can get the task id, Then we could directly got the result by using get. However if request \"get\" so fast it could not finish search and cast error, so we can use timeout limit to make it to retry. default freq is 5 seconds and timeout is 0 seconds, However you can reset it to make better usage, here is the example"
   ],
   "metadata": {
    "collapsed": false
   }
  },
  {
   "cell_type": "code",
   "execution_count": 4,
   "outputs": [
    {
     "data": {
      "text/plain": "                                     id                               keyword\n0  09201039-6469-0066-0000-d6358662f68f  \"Johnnie\" Johnson Housing Trust Ltd.\n1  09201039-6469-0066-0000-a25cb8786a40                              051 Subs\n2  09201039-6469-0066-0000-53e6b66722f5              063 Loan Company Limited\n3  09201039-6469-0066-0000-09ba2e9b805f          0880 Santander Santibañez Sl\n4  09201039-6469-0066-0000-32e51f446bc5                           0km Finance",
      "text/html": "<div>\n<style scoped>\n    .dataframe tbody tr th:only-of-type {\n        vertical-align: middle;\n    }\n\n    .dataframe tbody tr th {\n        vertical-align: top;\n    }\n\n    .dataframe thead th {\n        text-align: right;\n    }\n</style>\n<table border=\"1\" class=\"dataframe\">\n  <thead>\n    <tr style=\"text-align: right;\">\n      <th></th>\n      <th>id</th>\n      <th>keyword</th>\n    </tr>\n  </thead>\n  <tbody>\n    <tr>\n      <th>0</th>\n      <td>09201039-6469-0066-0000-d6358662f68f</td>\n      <td>\"Johnnie\" Johnson Housing Trust Ltd.</td>\n    </tr>\n    <tr>\n      <th>1</th>\n      <td>09201039-6469-0066-0000-a25cb8786a40</td>\n      <td>051 Subs</td>\n    </tr>\n    <tr>\n      <th>2</th>\n      <td>09201039-6469-0066-0000-53e6b66722f5</td>\n      <td>063 Loan Company Limited</td>\n    </tr>\n    <tr>\n      <th>3</th>\n      <td>09201039-6469-0066-0000-09ba2e9b805f</td>\n      <td>0880 Santander Santibañez Sl</td>\n    </tr>\n    <tr>\n      <th>4</th>\n      <td>09201039-6469-0066-0000-32e51f446bc5</td>\n      <td>0km Finance</td>\n    </tr>\n  </tbody>\n</table>\n</div>"
     },
     "execution_count": 4,
     "metadata": {},
     "output_type": "execute_result"
    }
   ],
   "source": [
    "task_post_df = search_api_cls.tasks_seq_post(keyword_list=keywords_list,res_type='df')\n",
    "task_post_df"
   ],
   "metadata": {
    "collapsed": false
   }
  },
  {
   "cell_type": "code",
   "execution_count": 5,
   "outputs": [
    {
     "name": "stderr",
     "output_type": "stream",
     "text": [
      "  0%|          | 0/5 [00:00<?, ?it/s]\n"
     ]
    },
    {
     "ename": "ConnectionError",
     "evalue": "Error-timeout for not get a efficient response from Seodata",
     "output_type": "error",
     "traceback": [
      "\u001B[1;31m---------------------------------------------------------------------------\u001B[0m",
      "\u001B[1;31mValueError\u001B[0m                                Traceback (most recent call last)",
      "File \u001B[1;32mD:\\Appfiles\\Dropbox_69449_files\\Dropbox\\Legion5ip\\NUS_RA\\seoapikits\\seoapikits\\SERP.py:182\u001B[0m, in \u001B[0;36mSERPAPI.tasks_seq_get_df\u001B[1;34m(self, task_id_listarrser, timeout_limit, retry_freq, errors)\u001B[0m\n\u001B[0;32m    181\u001B[0m \u001B[38;5;28;01mtry\u001B[39;00m:\n\u001B[1;32m--> 182\u001B[0m     tmp_df \u001B[38;5;241m=\u001B[39m \u001B[38;5;28;43mself\u001B[39;49m\u001B[38;5;241;43m.\u001B[39;49m\u001B[43mtask_get\u001B[49m\u001B[43m(\u001B[49m\n\u001B[0;32m    183\u001B[0m \u001B[43m        \u001B[49m\u001B[43mtask_id\u001B[49m\u001B[38;5;241;43m=\u001B[39;49m\u001B[43mtaskid\u001B[49m\u001B[43m,\u001B[49m\n\u001B[0;32m    184\u001B[0m \u001B[43m        \u001B[49m\u001B[43mres_type\u001B[49m\u001B[38;5;241;43m=\u001B[39;49m\u001B[38;5;124;43m'\u001B[39;49m\u001B[38;5;124;43mdf\u001B[39;49m\u001B[38;5;124;43m'\u001B[39;49m\u001B[43m,\u001B[49m\n\u001B[0;32m    185\u001B[0m \u001B[43m        \u001B[49m\u001B[43mtimeout_limit\u001B[49m\u001B[38;5;241;43m=\u001B[39;49m\u001B[43mtimeout_limit\u001B[49m\u001B[43m,\u001B[49m\n\u001B[0;32m    186\u001B[0m \u001B[43m        \u001B[49m\u001B[43mretry_freq\u001B[49m\u001B[38;5;241;43m=\u001B[39;49m\u001B[43mretry_freq\u001B[49m\n\u001B[0;32m    187\u001B[0m \u001B[43m    \u001B[49m\u001B[43m)\u001B[49m\n\u001B[0;32m    188\u001B[0m \u001B[38;5;28;01mexcept\u001B[39;00m \u001B[38;5;167;01mException\u001B[39;00m \u001B[38;5;28;01mas\u001B[39;00m e:\n",
      "File \u001B[1;32mD:\\Appfiles\\Dropbox_69449_files\\Dropbox\\Legion5ip\\NUS_RA\\seoapikits\\seoapikits\\SERP.py:149\u001B[0m, in \u001B[0;36mSERPAPI.task_get\u001B[1;34m(self, task_id, res_type, timeout_limit, retry_freq)\u001B[0m\n\u001B[0;32m    147\u001B[0m \u001B[38;5;28;01mif\u001B[39;00m (time\u001B[38;5;241m.\u001B[39mtime() \u001B[38;5;241m-\u001B[39m timeout_start) \u001B[38;5;241m>\u001B[39m\u001B[38;5;241m=\u001B[39m timeout_limit:\n\u001B[0;32m    148\u001B[0m     \u001B[38;5;66;03m# if time out then have a value error cast\u001B[39;00m\n\u001B[1;32m--> 149\u001B[0m     \u001B[38;5;28;01mraise\u001B[39;00m \u001B[38;5;167;01mValueError\u001B[39;00m(\u001B[38;5;124m'\u001B[39m\u001B[38;5;124mError-timeout for not get a efficient response from Seodata\u001B[39m\u001B[38;5;124m'\u001B[39m)\n\u001B[0;32m    150\u001B[0m \u001B[38;5;28;01melse\u001B[39;00m:\n\u001B[0;32m    151\u001B[0m     \u001B[38;5;66;03m# if time not out then retry..., sleep for seconds\u001B[39;00m\n",
      "\u001B[1;31mValueError\u001B[0m: Error-timeout for not get a efficient response from Seodata",
      "\nDuring handling of the above exception, another exception occurred:\n",
      "\u001B[1;31mConnectionError\u001B[0m                           Traceback (most recent call last)",
      "Cell \u001B[1;32mIn[5], line 1\u001B[0m\n\u001B[1;32m----> 1\u001B[0m task_get_df \u001B[38;5;241m=\u001B[39m \u001B[43msearch_api_cls\u001B[49m\u001B[38;5;241;43m.\u001B[39;49m\u001B[43mtasks_seq_get_df\u001B[49m\u001B[43m(\u001B[49m\u001B[43mtask_post_df\u001B[49m\u001B[43m[\u001B[49m\u001B[38;5;124;43m'\u001B[39;49m\u001B[38;5;124;43mid\u001B[39;49m\u001B[38;5;124;43m'\u001B[39;49m\u001B[43m]\u001B[49m\u001B[43m,\u001B[49m\u001B[43m \u001B[49m\u001B[43mtimeout_limit\u001B[49m\u001B[38;5;241;43m=\u001B[39;49m\u001B[38;5;241;43m0\u001B[39;49m\u001B[43m)\u001B[49m\n\u001B[0;32m      2\u001B[0m task_get_df\n",
      "File \u001B[1;32mD:\\Appfiles\\Dropbox_69449_files\\Dropbox\\Legion5ip\\NUS_RA\\seoapikits\\seoapikits\\SERP.py:190\u001B[0m, in \u001B[0;36mSERPAPI.tasks_seq_get_df\u001B[1;34m(self, task_id_listarrser, timeout_limit, retry_freq, errors)\u001B[0m\n\u001B[0;32m    188\u001B[0m \u001B[38;5;28;01mexcept\u001B[39;00m \u001B[38;5;167;01mException\u001B[39;00m \u001B[38;5;28;01mas\u001B[39;00m e:\n\u001B[0;32m    189\u001B[0m     \u001B[38;5;28;01mif\u001B[39;00m errors \u001B[38;5;241m==\u001B[39m \u001B[38;5;124m'\u001B[39m\u001B[38;5;124mstrict\u001B[39m\u001B[38;5;124m'\u001B[39m:\n\u001B[1;32m--> 190\u001B[0m         \u001B[38;5;28;01mraise\u001B[39;00m \u001B[38;5;167;01mConnectionError\u001B[39;00m(e)\n\u001B[0;32m    191\u001B[0m     \u001B[38;5;28;01melif\u001B[39;00m errors \u001B[38;5;241m==\u001B[39m \u001B[38;5;124m'\u001B[39m\u001B[38;5;124mignore\u001B[39m\u001B[38;5;124m'\u001B[39m:\n\u001B[0;32m    192\u001B[0m         \u001B[38;5;28mprint\u001B[39m(e)\n",
      "\u001B[1;31mConnectionError\u001B[0m: Error-timeout for not get a efficient response from Seodata"
     ]
    }
   ],
   "source": [
    "task_get_df = search_api_cls.tasks_seq_get_df(task_post_df['id'], timeout_limit=0)\n",
    "task_get_df"
   ],
   "metadata": {
    "collapsed": false
   }
  },
  {
   "cell_type": "markdown",
   "source": [
    "You can see, so fast search will result for not enough time for server to response. So we take time to retry.\n",
    "More easily, you could use ```search_api_cls.task_ready``` to checkin"
   ],
   "metadata": {
    "collapsed": false
   }
  },
  {
   "cell_type": "markdown",
   "source": [
    "Wait for a while and check again. We could have a simple method which have a while to wait for all task finished"
   ],
   "metadata": {
    "collapsed": false
   }
  },
  {
   "cell_type": "code",
   "execution_count": 7,
   "outputs": [
    {
     "data": {
      "text/plain": "                                     id  ready\n0  09201039-6469-0066-0000-d6358662f68f   True\n1  09201039-6469-0066-0000-a25cb8786a40   True\n2  09201039-6469-0066-0000-53e6b66722f5   True\n3  09201039-6469-0066-0000-09ba2e9b805f   True\n4  09201039-6469-0066-0000-32e51f446bc5   True",
      "text/html": "<div>\n<style scoped>\n    .dataframe tbody tr th:only-of-type {\n        vertical-align: middle;\n    }\n\n    .dataframe tbody tr th {\n        vertical-align: top;\n    }\n\n    .dataframe thead th {\n        text-align: right;\n    }\n</style>\n<table border=\"1\" class=\"dataframe\">\n  <thead>\n    <tr style=\"text-align: right;\">\n      <th></th>\n      <th>id</th>\n      <th>ready</th>\n    </tr>\n  </thead>\n  <tbody>\n    <tr>\n      <th>0</th>\n      <td>09201039-6469-0066-0000-d6358662f68f</td>\n      <td>True</td>\n    </tr>\n    <tr>\n      <th>1</th>\n      <td>09201039-6469-0066-0000-a25cb8786a40</td>\n      <td>True</td>\n    </tr>\n    <tr>\n      <th>2</th>\n      <td>09201039-6469-0066-0000-53e6b66722f5</td>\n      <td>True</td>\n    </tr>\n    <tr>\n      <th>3</th>\n      <td>09201039-6469-0066-0000-09ba2e9b805f</td>\n      <td>True</td>\n    </tr>\n    <tr>\n      <th>4</th>\n      <td>09201039-6469-0066-0000-32e51f446bc5</td>\n      <td>True</td>\n    </tr>\n  </tbody>\n</table>\n</div>"
     },
     "execution_count": 7,
     "metadata": {},
     "output_type": "execute_result"
    }
   ],
   "source": [
    "task_ready_df = search_api_cls.tasks_seq_ready_df(task_post_df['id'])\n",
    "task_ready_df"
   ],
   "metadata": {
    "collapsed": false
   }
  },
  {
   "cell_type": "code",
   "execution_count": 8,
   "outputs": [
    {
     "name": "stderr",
     "output_type": "stream",
     "text": [
      "100%|██████████| 5/5 [00:05<00:00,  1.15s/it]\n"
     ]
    }
   ],
   "source": [
    "task_get_df = search_api_cls.tasks_seq_get_df(task_post_df['id'], timeout_limit=30)"
   ],
   "metadata": {
    "collapsed": false
   }
  },
  {
   "cell_type": "code",
   "execution_count": 9,
   "outputs": [
    {
     "data": {
      "text/plain": "        type  rank_group  rank_absolute  \\\n0    organic           1              1   \n1    organic           2              2   \n2    organic           3              4   \n3    organic           4              5   \n4    organic           5              6   \n..       ...         ...            ...   \n370  organic          95             96   \n371  organic          96             97   \n372  organic          97             98   \n373  organic          98             99   \n374  organic          99            100   \n\n                                                domain  \\\n0                                  www.jjhousing.co.uk   \n1                                      uk.linkedin.com   \n2                         www.findahomejjhousing.co.uk   \n3                                     www.facebook.com   \n4    find-and-update.company-information.service.go...   \n..                                                 ...   \n370                                www.globalfleet.com   \n371                         www.faganmotorcycles.co.nz   \n372                                     blog.clutch.ca   \n373                                    www.porsche.com   \n374               www.aventurachryslerjeepdodgeram.com   \n\n                                                 title  \\\n0         Johnnie Johnson Housing: Housing Association   \n1                              Johnnie Johnson Housing   \n2                                   Login - JJ Housing   \n3                  Johnnie Johnson Housing | Stockport   \n4    \"johnnie\" johnson housing trust limited - Comp...   \n..                                                 ...   \n370                                            Uruguay   \n371  0 - New and Used Kawasaki and Suzuki Motorcycl...   \n372             12 Cheapest New Cars in Canada in 2023   \n373                         Porsche Financial Services   \n374                              New Wrangler For Sale   \n\n                                           description  \\\n0    We are Johnnie Johnson Housing ... We are a no...   \n1    Johnnie Johnson Housing is a not-for-profit ho...   \n2    Johnnie Johnson Housing Limited is a Registere...   \n3    Johnnie Johnson Housing, Cheadle Hulme. 1268 l...   \n4    \"JOHNNIE\" JOHNSON HOUSING TRUST LIMITED - Free...   \n..                                                 ...   \n370  Bank financing facilities are better for 0km c...   \n371  0km. Express Finance Calculator. Vehicle Cost....   \n372  ... km warranty. Plus, you get a 10-day or 750...   \n373  Seguro de até 4 anos diluído nas parcelas de f...   \n374  Internet Price includes financing with dealer'...   \n\n                                                   url  \\\n0                         https://www.jjhousing.co.uk/   \n1    https://uk.linkedin.com/company/johnniejohnson...   \n2          https://www.findahomejjhousing.co.uk/login/   \n3             https://www.facebook.com/jjhousingtrust/   \n4    https://find-and-update.company-information.se...   \n..                                                 ...   \n370   https://www.globalfleet.com/en/wikifleet/uruguay   \n371  https://www.faganmotorcycles.co.nz/motorcycle/...   \n372  https://blog.clutch.ca/posts/6-cheapest-new-ca...   \n373  https://www.porsche.com/brazil/pt/accessoriesa...   \n374  https://www.aventurachryslerjeepdodgeram.com/n...   \n\n                                            breadcrumb  \\\n0                          https://www.jjhousing.co.uk   \n1    https://uk.linkedin.com › company › johnniejoh...   \n2         https://www.findahomejjhousing.co.uk › login   \n3            https://www.facebook.com › jjhousingtrust   \n4    https://find-and-update.company-information.se...   \n..                                                 ...   \n370  https://www.globalfleet.com › ... › Wikifleet ...   \n371  https://www.faganmotorcycles.co.nz › motorcycl...   \n372  https://blog.clutch.ca › posts › 6-cheapest-ne...   \n373                   https://www.porsche.com › brazil   \n374  https://www.aventurachryslerjeepdodgeram.com ›...   \n\n                                       id  \\\n0    09201039-6469-0066-0000-d6358662f68f   \n1    09201039-6469-0066-0000-d6358662f68f   \n2    09201039-6469-0066-0000-d6358662f68f   \n3    09201039-6469-0066-0000-d6358662f68f   \n4    09201039-6469-0066-0000-d6358662f68f   \n..                                    ...   \n370  09201039-6469-0066-0000-32e51f446bc5   \n371  09201039-6469-0066-0000-32e51f446bc5   \n372  09201039-6469-0066-0000-32e51f446bc5   \n373  09201039-6469-0066-0000-32e51f446bc5   \n374  09201039-6469-0066-0000-32e51f446bc5   \n\n                                  keyword  \n0    \"Johnnie\" Johnson Housing Trust Ltd.  \n1    \"Johnnie\" Johnson Housing Trust Ltd.  \n2    \"Johnnie\" Johnson Housing Trust Ltd.  \n3    \"Johnnie\" Johnson Housing Trust Ltd.  \n4    \"Johnnie\" Johnson Housing Trust Ltd.  \n..                                    ...  \n370                           0km Finance  \n371                           0km Finance  \n372                           0km Finance  \n373                           0km Finance  \n374                           0km Finance  \n\n[375 rows x 10 columns]",
      "text/html": "<div>\n<style scoped>\n    .dataframe tbody tr th:only-of-type {\n        vertical-align: middle;\n    }\n\n    .dataframe tbody tr th {\n        vertical-align: top;\n    }\n\n    .dataframe thead th {\n        text-align: right;\n    }\n</style>\n<table border=\"1\" class=\"dataframe\">\n  <thead>\n    <tr style=\"text-align: right;\">\n      <th></th>\n      <th>type</th>\n      <th>rank_group</th>\n      <th>rank_absolute</th>\n      <th>domain</th>\n      <th>title</th>\n      <th>description</th>\n      <th>url</th>\n      <th>breadcrumb</th>\n      <th>id</th>\n      <th>keyword</th>\n    </tr>\n  </thead>\n  <tbody>\n    <tr>\n      <th>0</th>\n      <td>organic</td>\n      <td>1</td>\n      <td>1</td>\n      <td>www.jjhousing.co.uk</td>\n      <td>Johnnie Johnson Housing: Housing Association</td>\n      <td>We are Johnnie Johnson Housing ... We are a no...</td>\n      <td>https://www.jjhousing.co.uk/</td>\n      <td>https://www.jjhousing.co.uk</td>\n      <td>09201039-6469-0066-0000-d6358662f68f</td>\n      <td>\"Johnnie\" Johnson Housing Trust Ltd.</td>\n    </tr>\n    <tr>\n      <th>1</th>\n      <td>organic</td>\n      <td>2</td>\n      <td>2</td>\n      <td>uk.linkedin.com</td>\n      <td>Johnnie Johnson Housing</td>\n      <td>Johnnie Johnson Housing is a not-for-profit ho...</td>\n      <td>https://uk.linkedin.com/company/johnniejohnson...</td>\n      <td>https://uk.linkedin.com › company › johnniejoh...</td>\n      <td>09201039-6469-0066-0000-d6358662f68f</td>\n      <td>\"Johnnie\" Johnson Housing Trust Ltd.</td>\n    </tr>\n    <tr>\n      <th>2</th>\n      <td>organic</td>\n      <td>3</td>\n      <td>4</td>\n      <td>www.findahomejjhousing.co.uk</td>\n      <td>Login - JJ Housing</td>\n      <td>Johnnie Johnson Housing Limited is a Registere...</td>\n      <td>https://www.findahomejjhousing.co.uk/login/</td>\n      <td>https://www.findahomejjhousing.co.uk › login</td>\n      <td>09201039-6469-0066-0000-d6358662f68f</td>\n      <td>\"Johnnie\" Johnson Housing Trust Ltd.</td>\n    </tr>\n    <tr>\n      <th>3</th>\n      <td>organic</td>\n      <td>4</td>\n      <td>5</td>\n      <td>www.facebook.com</td>\n      <td>Johnnie Johnson Housing | Stockport</td>\n      <td>Johnnie Johnson Housing, Cheadle Hulme. 1268 l...</td>\n      <td>https://www.facebook.com/jjhousingtrust/</td>\n      <td>https://www.facebook.com › jjhousingtrust</td>\n      <td>09201039-6469-0066-0000-d6358662f68f</td>\n      <td>\"Johnnie\" Johnson Housing Trust Ltd.</td>\n    </tr>\n    <tr>\n      <th>4</th>\n      <td>organic</td>\n      <td>5</td>\n      <td>6</td>\n      <td>find-and-update.company-information.service.go...</td>\n      <td>\"johnnie\" johnson housing trust limited - Comp...</td>\n      <td>\"JOHNNIE\" JOHNSON HOUSING TRUST LIMITED - Free...</td>\n      <td>https://find-and-update.company-information.se...</td>\n      <td>https://find-and-update.company-information.se...</td>\n      <td>09201039-6469-0066-0000-d6358662f68f</td>\n      <td>\"Johnnie\" Johnson Housing Trust Ltd.</td>\n    </tr>\n    <tr>\n      <th>...</th>\n      <td>...</td>\n      <td>...</td>\n      <td>...</td>\n      <td>...</td>\n      <td>...</td>\n      <td>...</td>\n      <td>...</td>\n      <td>...</td>\n      <td>...</td>\n      <td>...</td>\n    </tr>\n    <tr>\n      <th>370</th>\n      <td>organic</td>\n      <td>95</td>\n      <td>96</td>\n      <td>www.globalfleet.com</td>\n      <td>Uruguay</td>\n      <td>Bank financing facilities are better for 0km c...</td>\n      <td>https://www.globalfleet.com/en/wikifleet/uruguay</td>\n      <td>https://www.globalfleet.com › ... › Wikifleet ...</td>\n      <td>09201039-6469-0066-0000-32e51f446bc5</td>\n      <td>0km Finance</td>\n    </tr>\n    <tr>\n      <th>371</th>\n      <td>organic</td>\n      <td>96</td>\n      <td>97</td>\n      <td>www.faganmotorcycles.co.nz</td>\n      <td>0 - New and Used Kawasaki and Suzuki Motorcycl...</td>\n      <td>0km. Express Finance Calculator. Vehicle Cost....</td>\n      <td>https://www.faganmotorcycles.co.nz/motorcycle/...</td>\n      <td>https://www.faganmotorcycles.co.nz › motorcycl...</td>\n      <td>09201039-6469-0066-0000-32e51f446bc5</td>\n      <td>0km Finance</td>\n    </tr>\n    <tr>\n      <th>372</th>\n      <td>organic</td>\n      <td>97</td>\n      <td>98</td>\n      <td>blog.clutch.ca</td>\n      <td>12 Cheapest New Cars in Canada in 2023</td>\n      <td>... km warranty. Plus, you get a 10-day or 750...</td>\n      <td>https://blog.clutch.ca/posts/6-cheapest-new-ca...</td>\n      <td>https://blog.clutch.ca › posts › 6-cheapest-ne...</td>\n      <td>09201039-6469-0066-0000-32e51f446bc5</td>\n      <td>0km Finance</td>\n    </tr>\n    <tr>\n      <th>373</th>\n      <td>organic</td>\n      <td>98</td>\n      <td>99</td>\n      <td>www.porsche.com</td>\n      <td>Porsche Financial Services</td>\n      <td>Seguro de até 4 anos diluído nas parcelas de f...</td>\n      <td>https://www.porsche.com/brazil/pt/accessoriesa...</td>\n      <td>https://www.porsche.com › brazil</td>\n      <td>09201039-6469-0066-0000-32e51f446bc5</td>\n      <td>0km Finance</td>\n    </tr>\n    <tr>\n      <th>374</th>\n      <td>organic</td>\n      <td>99</td>\n      <td>100</td>\n      <td>www.aventurachryslerjeepdodgeram.com</td>\n      <td>New Wrangler For Sale</td>\n      <td>Internet Price includes financing with dealer'...</td>\n      <td>https://www.aventurachryslerjeepdodgeram.com/n...</td>\n      <td>https://www.aventurachryslerjeepdodgeram.com ›...</td>\n      <td>09201039-6469-0066-0000-32e51f446bc5</td>\n      <td>0km Finance</td>\n    </tr>\n  </tbody>\n</table>\n<p>375 rows × 10 columns</p>\n</div>"
     },
     "execution_count": 9,
     "metadata": {},
     "output_type": "execute_result"
    }
   ],
   "source": [
    "pd.merge(task_get_df, task_post_df, on='id', validate='many_to_one')"
   ],
   "metadata": {
    "collapsed": false
   }
  }
 ],
 "metadata": {
  "kernelspec": {
   "display_name": "Python 3",
   "language": "python",
   "name": "python3"
  },
  "language_info": {
   "codemirror_mode": {
    "name": "ipython",
    "version": 2
   },
   "file_extension": ".py",
   "mimetype": "text/x-python",
   "name": "python",
   "nbconvert_exporter": "python",
   "pygments_lexer": "ipython2",
   "version": "2.7.6"
  }
 },
 "nbformat": 4,
 "nbformat_minor": 0
}
