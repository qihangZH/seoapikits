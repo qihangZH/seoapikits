{
 "cells": [
  {
   "cell_type": "code",
   "execution_count": 1,
   "metadata": {
    "collapsed": true
   },
   "outputs": [],
   "source": [
    "import pandas as pd\n",
    "import seoapikits"
   ]
  },
  {
   "cell_type": "code",
   "execution_count": 2,
   "outputs": [],
   "source": [
    "# https://cdn.dataforseo.com/v3/examples/python/python_Client.zip\n",
    "keywords_list = pd.read_excel('./sample_data/await_finding_url.xlsx', engine='openpyxl')['company_name_cv'].to_list()[:5]"
   ],
   "metadata": {
    "collapsed": false
   }
  },
  {
   "cell_type": "markdown",
   "source": [
    "We read the sample data, we only pick the first 5, then Initialize the cls to search for"
   ],
   "metadata": {
    "collapsed": false
   }
  },
  {
   "cell_type": "code",
   "execution_count": 3,
   "outputs": [],
   "source": [
    "username = input(\"Enter the username: \")\n",
    "password = input(\"Enter the password: \")\n",
    "search_api_cls = seoapikits.SERP.SERPAPI(username=username, password=password)"
   ],
   "metadata": {
    "collapsed": false
   }
  },
  {
   "cell_type": "markdown",
   "source": [
    "After, we try to post the data, which means we send request to the seodata server, and we can get the task id, Then we could directly got the result by using get. However if request \"get\" so fast it could not finish search and cast error, so we can use timeout limit to make it to retry. default freq is 5 seconds and timeout is 0 seconds, However you can reset it to make better usage, here is the example"
   ],
   "metadata": {
    "collapsed": false
   }
  },
  {
   "cell_type": "code",
   "execution_count": 4,
   "outputs": [
    {
     "name": "stdout",
     "output_type": "stream",
     "text": [
      "[[{'language_code': 'en', 'location_code': 2840, 'keyword': '\"Johnnie\" Johnson Housing Trust Ltd.'}, {'language_code': 'en', 'location_code': 2840, 'keyword': '051 Subs'}, {'language_code': 'en', 'location_code': 2840, 'keyword': '063 Loan Company Limited'}, {'language_code': 'en', 'location_code': 2840, 'keyword': '0880 Santander Santibañez Sl'}, {'language_code': 'en', 'location_code': 2840, 'keyword': '0km Finance'}]]\n"
     ]
    },
    {
     "data": {
      "text/plain": "                                     id                               keyword\n0  09201215-6469-0066-0000-406e5940320a  \"Johnnie\" Johnson Housing Trust Ltd.\n1  09201215-6469-0066-0000-67e1c270120a                              051 Subs\n2  09201215-6469-0066-0000-35a249147847              063 Loan Company Limited\n3  09201215-6469-0066-0000-aa0a50c991ee          0880 Santander Santibañez Sl\n4  09201215-6469-0066-0000-83d5a2bdf605                           0km Finance",
      "text/html": "<div>\n<style scoped>\n    .dataframe tbody tr th:only-of-type {\n        vertical-align: middle;\n    }\n\n    .dataframe tbody tr th {\n        vertical-align: top;\n    }\n\n    .dataframe thead th {\n        text-align: right;\n    }\n</style>\n<table border=\"1\" class=\"dataframe\">\n  <thead>\n    <tr style=\"text-align: right;\">\n      <th></th>\n      <th>id</th>\n      <th>keyword</th>\n    </tr>\n  </thead>\n  <tbody>\n    <tr>\n      <th>0</th>\n      <td>09201215-6469-0066-0000-406e5940320a</td>\n      <td>\"Johnnie\" Johnson Housing Trust Ltd.</td>\n    </tr>\n    <tr>\n      <th>1</th>\n      <td>09201215-6469-0066-0000-67e1c270120a</td>\n      <td>051 Subs</td>\n    </tr>\n    <tr>\n      <th>2</th>\n      <td>09201215-6469-0066-0000-35a249147847</td>\n      <td>063 Loan Company Limited</td>\n    </tr>\n    <tr>\n      <th>3</th>\n      <td>09201215-6469-0066-0000-aa0a50c991ee</td>\n      <td>0880 Santander Santibañez Sl</td>\n    </tr>\n    <tr>\n      <th>4</th>\n      <td>09201215-6469-0066-0000-83d5a2bdf605</td>\n      <td>0km Finance</td>\n    </tr>\n  </tbody>\n</table>\n</div>"
     },
     "execution_count": 4,
     "metadata": {},
     "output_type": "execute_result"
    }
   ],
   "source": [
    "task_post_df = search_api_cls.tasks_seq_post(keyword_list=keywords_list,res_type='df')\n",
    "task_post_df"
   ],
   "metadata": {
    "collapsed": false
   }
  },
  {
   "cell_type": "code",
   "execution_count": 5,
   "outputs": [
    {
     "data": {
      "text/plain": "                                     id                               keyword\n0  09201215-6469-0066-0000-406e5940320a  \"Johnnie\" Johnson Housing Trust Ltd.\n1  09201215-6469-0066-0000-67e1c270120a                              051 Subs\n2  09201215-6469-0066-0000-35a249147847              063 Loan Company Limited\n3  09201215-6469-0066-0000-aa0a50c991ee          0880 Santander Santibañez Sl\n4  09201215-6469-0066-0000-83d5a2bdf605                           0km Finance",
      "text/html": "<div>\n<style scoped>\n    .dataframe tbody tr th:only-of-type {\n        vertical-align: middle;\n    }\n\n    .dataframe tbody tr th {\n        vertical-align: top;\n    }\n\n    .dataframe thead th {\n        text-align: right;\n    }\n</style>\n<table border=\"1\" class=\"dataframe\">\n  <thead>\n    <tr style=\"text-align: right;\">\n      <th></th>\n      <th>id</th>\n      <th>keyword</th>\n    </tr>\n  </thead>\n  <tbody>\n    <tr>\n      <th>0</th>\n      <td>09201215-6469-0066-0000-406e5940320a</td>\n      <td>\"Johnnie\" Johnson Housing Trust Ltd.</td>\n    </tr>\n    <tr>\n      <th>1</th>\n      <td>09201215-6469-0066-0000-67e1c270120a</td>\n      <td>051 Subs</td>\n    </tr>\n    <tr>\n      <th>2</th>\n      <td>09201215-6469-0066-0000-35a249147847</td>\n      <td>063 Loan Company Limited</td>\n    </tr>\n    <tr>\n      <th>3</th>\n      <td>09201215-6469-0066-0000-aa0a50c991ee</td>\n      <td>0880 Santander Santibañez Sl</td>\n    </tr>\n    <tr>\n      <th>4</th>\n      <td>09201215-6469-0066-0000-83d5a2bdf605</td>\n      <td>0km Finance</td>\n    </tr>\n  </tbody>\n</table>\n</div>"
     },
     "execution_count": 5,
     "metadata": {},
     "output_type": "execute_result"
    }
   ],
   "source": [
    "task_post_df"
   ],
   "metadata": {
    "collapsed": false
   }
  },
  {
   "cell_type": "code",
   "execution_count": 6,
   "outputs": [
    {
     "name": "stderr",
     "output_type": "stream",
     "text": [
      "  0%|          | 0/5 [00:00<?, ?it/s]\n"
     ]
    },
    {
     "ename": "ConnectionError",
     "evalue": "Error-timeout for not get a efficient response from Seodata",
     "output_type": "error",
     "traceback": [
      "\u001B[1;31m---------------------------------------------------------------------------\u001B[0m",
      "\u001B[1;31mValueError\u001B[0m                                Traceback (most recent call last)",
      "File \u001B[1;32mD:\\Appfiles\\Dropbox_69449_files\\Dropbox\\Legion5ip\\NUS_RA\\seoapikits\\seoapikits\\SERP.py:197\u001B[0m, in \u001B[0;36mtasks_seq_get_df\u001B[1;34m(self, task_id_listarrser, timeout_limit, retry_freq, errors)\u001B[0m\n\u001B[0;32m    193\u001B[0m \u001B[38;5;28;01mtry\u001B[39;00m:\n\u001B[0;32m    194\u001B[0m     tmp_df \u001B[38;5;241m=\u001B[39m \u001B[38;5;28mself\u001B[39m\u001B[38;5;241m.\u001B[39mtask_get(\n\u001B[0;32m    195\u001B[0m         task_id\u001B[38;5;241m=\u001B[39mtaskid,\n\u001B[0;32m    196\u001B[0m         res_type\u001B[38;5;241m=\u001B[39m\u001B[38;5;124m'\u001B[39m\u001B[38;5;124mdf\u001B[39m\u001B[38;5;124m'\u001B[39m,\n\u001B[1;32m--> 197\u001B[0m         timeout_limit\u001B[38;5;241m=\u001B[39mtimeout_limit,\n\u001B[0;32m    198\u001B[0m         retry_freq\u001B[38;5;241m=\u001B[39mretry_freq\n\u001B[0;32m    199\u001B[0m     )\n\u001B[0;32m    200\u001B[0m \u001B[38;5;28;01mexcept\u001B[39;00m \u001B[38;5;167;01mException\u001B[39;00m \u001B[38;5;28;01mas\u001B[39;00m e:\n",
      "File \u001B[1;32mD:\\Appfiles\\Dropbox_69449_files\\Dropbox\\Legion5ip\\NUS_RA\\seoapikits\\seoapikits\\SERP.py:164\u001B[0m, in \u001B[0;36mtask_get\u001B[1;34m(self, task_id, res_type, timeout_limit, retry_freq)\u001B[0m\n\u001B[0;32m    162\u001B[0m \u001B[38;5;28;01melse\u001B[39;00m:\n\u001B[0;32m    163\u001B[0m     \u001B[38;5;66;03m# if time not out then retry..., sleep for seconds\u001B[39;00m\n\u001B[1;32m--> 164\u001B[0m     time\u001B[38;5;241m.\u001B[39msleep(retry_freq)\n\u001B[0;32m    165\u001B[0m     get_res \u001B[38;5;241m=\u001B[39m _lambda_get_res()\n",
      "\u001B[1;31mValueError\u001B[0m: Error-timeout for not get a efficient response from Seodata",
      "\nDuring handling of the above exception, another exception occurred:\n",
      "\u001B[1;31mConnectionError\u001B[0m                           Traceback (most recent call last)",
      "Cell \u001B[1;32mIn[6], line 1\u001B[0m\n\u001B[1;32m----> 1\u001B[0m task_get_df \u001B[38;5;241m=\u001B[39m \u001B[43msearch_api_cls\u001B[49m\u001B[38;5;241;43m.\u001B[39;49m\u001B[43mtasks_seq_get_df\u001B[49m\u001B[43m(\u001B[49m\u001B[43mtask_post_df\u001B[49m\u001B[43m[\u001B[49m\u001B[38;5;124;43m'\u001B[39;49m\u001B[38;5;124;43mid\u001B[39;49m\u001B[38;5;124;43m'\u001B[39;49m\u001B[43m]\u001B[49m\u001B[43m,\u001B[49m\u001B[43m \u001B[49m\u001B[43mtimeout_limit\u001B[49m\u001B[38;5;241;43m=\u001B[39;49m\u001B[38;5;241;43m0\u001B[39;49m\u001B[43m)\u001B[49m\n\u001B[0;32m      2\u001B[0m task_get_df\n",
      "File \u001B[1;32mD:\\Appfiles\\Dropbox_69449_files\\Dropbox\\Legion5ip\\NUS_RA\\seoapikits\\seoapikits\\SERP.py:205\u001B[0m, in \u001B[0;36mtasks_seq_get_df\u001B[1;34m(self, task_id_listarrser, timeout_limit, retry_freq, errors)\u001B[0m\n\u001B[0;32m    203\u001B[0m \u001B[38;5;28;01melif\u001B[39;00m errors \u001B[38;5;241m==\u001B[39m \u001B[38;5;124m'\u001B[39m\u001B[38;5;124mignore\u001B[39m\u001B[38;5;124m'\u001B[39m:\n\u001B[0;32m    204\u001B[0m     \u001B[38;5;28mprint\u001B[39m(e)\n\u001B[1;32m--> 205\u001B[0m     \u001B[38;5;28mprint\u001B[39m(\u001B[38;5;124m'\u001B[39m\u001B[38;5;130;01m\\n\u001B[39;00m\u001B[38;5;124mthe problem was ignored and pass to next id get\u001B[39m\u001B[38;5;124m'\u001B[39m)\n\u001B[0;32m    206\u001B[0m     tmp_df \u001B[38;5;241m=\u001B[39m pd\u001B[38;5;241m.\u001B[39mDataFrame({\u001B[38;5;124m'\u001B[39m\u001B[38;5;124mid\u001B[39m\u001B[38;5;124m'\u001B[39m: [taskid]})\n\u001B[0;32m    207\u001B[0m \u001B[38;5;28;01melse\u001B[39;00m:\n",
      "\u001B[1;31mConnectionError\u001B[0m: Error-timeout for not get a efficient response from Seodata"
     ]
    }
   ],
   "source": [
    "task_get_df = search_api_cls.tasks_seq_get_df(task_post_df['id'], timeout_limit=0)\n",
    "task_get_df"
   ],
   "metadata": {
    "collapsed": false
   }
  },
  {
   "cell_type": "markdown",
   "source": [
    "You can see, so fast search will result for not enough time for server to response. So we take time to retry.\n",
    "More easily, you could use ```search_api_cls.task_ready``` to checkin"
   ],
   "metadata": {
    "collapsed": false
   }
  },
  {
   "cell_type": "markdown",
   "source": [
    "Wait for a while and check again. We could have a simple method which have a while to wait for all task finished"
   ],
   "metadata": {
    "collapsed": false
   }
  },
  {
   "cell_type": "code",
   "execution_count": 10,
   "outputs": [
    {
     "data": {
      "text/plain": "                                     id  ready\n0  09201215-6469-0066-0000-406e5940320a   True\n1  09201215-6469-0066-0000-67e1c270120a   True\n2  09201215-6469-0066-0000-35a249147847   True\n3  09201215-6469-0066-0000-aa0a50c991ee   True\n4  09201215-6469-0066-0000-83d5a2bdf605   True",
      "text/html": "<div>\n<style scoped>\n    .dataframe tbody tr th:only-of-type {\n        vertical-align: middle;\n    }\n\n    .dataframe tbody tr th {\n        vertical-align: top;\n    }\n\n    .dataframe thead th {\n        text-align: right;\n    }\n</style>\n<table border=\"1\" class=\"dataframe\">\n  <thead>\n    <tr style=\"text-align: right;\">\n      <th></th>\n      <th>id</th>\n      <th>ready</th>\n    </tr>\n  </thead>\n  <tbody>\n    <tr>\n      <th>0</th>\n      <td>09201215-6469-0066-0000-406e5940320a</td>\n      <td>True</td>\n    </tr>\n    <tr>\n      <th>1</th>\n      <td>09201215-6469-0066-0000-67e1c270120a</td>\n      <td>True</td>\n    </tr>\n    <tr>\n      <th>2</th>\n      <td>09201215-6469-0066-0000-35a249147847</td>\n      <td>True</td>\n    </tr>\n    <tr>\n      <th>3</th>\n      <td>09201215-6469-0066-0000-aa0a50c991ee</td>\n      <td>True</td>\n    </tr>\n    <tr>\n      <th>4</th>\n      <td>09201215-6469-0066-0000-83d5a2bdf605</td>\n      <td>True</td>\n    </tr>\n  </tbody>\n</table>\n</div>"
     },
     "execution_count": 10,
     "metadata": {},
     "output_type": "execute_result"
    }
   ],
   "source": [
    "task_ready_df = search_api_cls.tasks_seq_ready_df(task_post_df['id'])\n",
    "task_ready_df"
   ],
   "metadata": {
    "collapsed": false
   }
  },
  {
   "cell_type": "code",
   "execution_count": 11,
   "outputs": [
    {
     "name": "stderr",
     "output_type": "stream",
     "text": [
      "100%|██████████| 5/5 [00:05<00:00,  1.16s/it]\n"
     ]
    }
   ],
   "source": [
    "task_get_df = search_api_cls.tasks_seq_get_df(task_post_df['id'], timeout_limit=30)"
   ],
   "metadata": {
    "collapsed": false
   }
  },
  {
   "cell_type": "code",
   "execution_count": 12,
   "outputs": [
    {
     "data": {
      "text/plain": "        type  rank_group  rank_absolute  \\\n0    organic           1              1   \n1    organic           2              2   \n2    organic           3              4   \n3    organic           4              5   \n4    organic           5              6   \n..       ...         ...            ...   \n383  organic          95             96   \n384  organic          96             97   \n385  organic          97             98   \n386  organic          98             99   \n387  organic          99            100   \n\n                                                domain  \\\n0                                  www.jjhousing.co.uk   \n1                                      uk.linkedin.com   \n2                         www.findahomejjhousing.co.uk   \n3                                     www.facebook.com   \n4    find-and-update.company-information.service.go...   \n..                                                 ...   \n383                                   www.reezocar.com   \n384                                  www.zigwheels.com   \n385                                en.nissan-dubai.com   \n386                                      www.quora.com   \n387                                     www.reddit.com   \n\n                                                 title  \\\n0         Johnnie Johnson Housing: Housing Association   \n1                              Johnnie Johnson Housing   \n2                                   Login - JJ Housing   \n3                  Johnnie Johnson Housing | Stockport   \n4    \"johnnie\" johnson housing trust limited - Comp...   \n..                                                 ...   \n383  New/0km Fiat Fiorino ad certified : Year 2022,...   \n384  How much we can still drive Skoda Octavia when...   \n385     NISSAN Certified Pre-Owned Cars | NISSAN Dubai   \n386   How far can a car go when it says 0 km to empty?   \n387  CMV: Buying a brand new car is a huge financia...   \n\n                                           description  \\\n0    We are Johnnie Johnson Housing ... We are a no...   \n1    Johnnie Johnson Housing is a not-for-profit ho...   \n2    Johnnie Johnson Housing Limited is a Registere...   \n3    Johnnie Johnson Housing, Cheadle Hulme. 1265 l...   \n4    \"JOHNNIE\" JOHNSON HOUSING TRUST LIMITED - Free...   \n..                                                 ...   \n383  Financing. How does it work? Choose your car. ...   \n384  How much we can still drive Skoda Octavia when...   \n385  Apply for Finance · Finance Calculator · Book ...   \n386  Profile photo for David Johansson. David Johan...   \n387  Additionally there's the non-financial benefit...   \n\n                                                   url  \\\n0                         https://www.jjhousing.co.uk/   \n1    https://uk.linkedin.com/company/johnniejohnson...   \n2          https://www.findahomejjhousing.co.uk/login/   \n3             https://www.facebook.com/jjhousingtrust/   \n4    https://find-and-update.company-information.se...   \n..                                                 ...   \n383  https://www.reezocar.com/en/neuve/annonce-fiat...   \n384  https://www.zigwheels.com/newcars/faqs/how-muc...   \n385  https://en.nissan-dubai.com/nissan-certified.html   \n386  https://www.quora.com/How-far-can-a-car-go-whe...   \n387  https://www.reddit.com/r/changemyview/comments...   \n\n                                            breadcrumb  \\\n0                          https://www.jjhousing.co.uk   \n1    https://uk.linkedin.com › company › johnniejoh...   \n2         https://www.findahomejjhousing.co.uk › login   \n3            https://www.facebook.com › jjhousingtrust   \n4    https://find-and-update.company-information.se...   \n..                                                 ...   \n383  https://www.reezocar.com › ... › Fiat › Fiat F...   \n384  https://www.zigwheels.com › newcars › faqs › h...   \n385     https://en.nissan-dubai.com › nissan-certified   \n386  https://www.quora.com › How-far-can-a-car-go-w...   \n387  https://www.reddit.com › changemyview › commen...   \n\n                                       id  \\\n0    09201215-6469-0066-0000-406e5940320a   \n1    09201215-6469-0066-0000-406e5940320a   \n2    09201215-6469-0066-0000-406e5940320a   \n3    09201215-6469-0066-0000-406e5940320a   \n4    09201215-6469-0066-0000-406e5940320a   \n..                                    ...   \n383  09201215-6469-0066-0000-83d5a2bdf605   \n384  09201215-6469-0066-0000-83d5a2bdf605   \n385  09201215-6469-0066-0000-83d5a2bdf605   \n386  09201215-6469-0066-0000-83d5a2bdf605   \n387  09201215-6469-0066-0000-83d5a2bdf605   \n\n                                  keyword  \n0    \"Johnnie\" Johnson Housing Trust Ltd.  \n1    \"Johnnie\" Johnson Housing Trust Ltd.  \n2    \"Johnnie\" Johnson Housing Trust Ltd.  \n3    \"Johnnie\" Johnson Housing Trust Ltd.  \n4    \"Johnnie\" Johnson Housing Trust Ltd.  \n..                                    ...  \n383                           0km Finance  \n384                           0km Finance  \n385                           0km Finance  \n386                           0km Finance  \n387                           0km Finance  \n\n[388 rows x 10 columns]",
      "text/html": "<div>\n<style scoped>\n    .dataframe tbody tr th:only-of-type {\n        vertical-align: middle;\n    }\n\n    .dataframe tbody tr th {\n        vertical-align: top;\n    }\n\n    .dataframe thead th {\n        text-align: right;\n    }\n</style>\n<table border=\"1\" class=\"dataframe\">\n  <thead>\n    <tr style=\"text-align: right;\">\n      <th></th>\n      <th>type</th>\n      <th>rank_group</th>\n      <th>rank_absolute</th>\n      <th>domain</th>\n      <th>title</th>\n      <th>description</th>\n      <th>url</th>\n      <th>breadcrumb</th>\n      <th>id</th>\n      <th>keyword</th>\n    </tr>\n  </thead>\n  <tbody>\n    <tr>\n      <th>0</th>\n      <td>organic</td>\n      <td>1</td>\n      <td>1</td>\n      <td>www.jjhousing.co.uk</td>\n      <td>Johnnie Johnson Housing: Housing Association</td>\n      <td>We are Johnnie Johnson Housing ... We are a no...</td>\n      <td>https://www.jjhousing.co.uk/</td>\n      <td>https://www.jjhousing.co.uk</td>\n      <td>09201215-6469-0066-0000-406e5940320a</td>\n      <td>\"Johnnie\" Johnson Housing Trust Ltd.</td>\n    </tr>\n    <tr>\n      <th>1</th>\n      <td>organic</td>\n      <td>2</td>\n      <td>2</td>\n      <td>uk.linkedin.com</td>\n      <td>Johnnie Johnson Housing</td>\n      <td>Johnnie Johnson Housing is a not-for-profit ho...</td>\n      <td>https://uk.linkedin.com/company/johnniejohnson...</td>\n      <td>https://uk.linkedin.com › company › johnniejoh...</td>\n      <td>09201215-6469-0066-0000-406e5940320a</td>\n      <td>\"Johnnie\" Johnson Housing Trust Ltd.</td>\n    </tr>\n    <tr>\n      <th>2</th>\n      <td>organic</td>\n      <td>3</td>\n      <td>4</td>\n      <td>www.findahomejjhousing.co.uk</td>\n      <td>Login - JJ Housing</td>\n      <td>Johnnie Johnson Housing Limited is a Registere...</td>\n      <td>https://www.findahomejjhousing.co.uk/login/</td>\n      <td>https://www.findahomejjhousing.co.uk › login</td>\n      <td>09201215-6469-0066-0000-406e5940320a</td>\n      <td>\"Johnnie\" Johnson Housing Trust Ltd.</td>\n    </tr>\n    <tr>\n      <th>3</th>\n      <td>organic</td>\n      <td>4</td>\n      <td>5</td>\n      <td>www.facebook.com</td>\n      <td>Johnnie Johnson Housing | Stockport</td>\n      <td>Johnnie Johnson Housing, Cheadle Hulme. 1265 l...</td>\n      <td>https://www.facebook.com/jjhousingtrust/</td>\n      <td>https://www.facebook.com › jjhousingtrust</td>\n      <td>09201215-6469-0066-0000-406e5940320a</td>\n      <td>\"Johnnie\" Johnson Housing Trust Ltd.</td>\n    </tr>\n    <tr>\n      <th>4</th>\n      <td>organic</td>\n      <td>5</td>\n      <td>6</td>\n      <td>find-and-update.company-information.service.go...</td>\n      <td>\"johnnie\" johnson housing trust limited - Comp...</td>\n      <td>\"JOHNNIE\" JOHNSON HOUSING TRUST LIMITED - Free...</td>\n      <td>https://find-and-update.company-information.se...</td>\n      <td>https://find-and-update.company-information.se...</td>\n      <td>09201215-6469-0066-0000-406e5940320a</td>\n      <td>\"Johnnie\" Johnson Housing Trust Ltd.</td>\n    </tr>\n    <tr>\n      <th>...</th>\n      <td>...</td>\n      <td>...</td>\n      <td>...</td>\n      <td>...</td>\n      <td>...</td>\n      <td>...</td>\n      <td>...</td>\n      <td>...</td>\n      <td>...</td>\n      <td>...</td>\n    </tr>\n    <tr>\n      <th>383</th>\n      <td>organic</td>\n      <td>95</td>\n      <td>96</td>\n      <td>www.reezocar.com</td>\n      <td>New/0km Fiat Fiorino ad certified : Year 2022,...</td>\n      <td>Financing. How does it work? Choose your car. ...</td>\n      <td>https://www.reezocar.com/en/neuve/annonce-fiat...</td>\n      <td>https://www.reezocar.com › ... › Fiat › Fiat F...</td>\n      <td>09201215-6469-0066-0000-83d5a2bdf605</td>\n      <td>0km Finance</td>\n    </tr>\n    <tr>\n      <th>384</th>\n      <td>organic</td>\n      <td>96</td>\n      <td>97</td>\n      <td>www.zigwheels.com</td>\n      <td>How much we can still drive Skoda Octavia when...</td>\n      <td>How much we can still drive Skoda Octavia when...</td>\n      <td>https://www.zigwheels.com/newcars/faqs/how-muc...</td>\n      <td>https://www.zigwheels.com › newcars › faqs › h...</td>\n      <td>09201215-6469-0066-0000-83d5a2bdf605</td>\n      <td>0km Finance</td>\n    </tr>\n    <tr>\n      <th>385</th>\n      <td>organic</td>\n      <td>97</td>\n      <td>98</td>\n      <td>en.nissan-dubai.com</td>\n      <td>NISSAN Certified Pre-Owned Cars | NISSAN Dubai</td>\n      <td>Apply for Finance · Finance Calculator · Book ...</td>\n      <td>https://en.nissan-dubai.com/nissan-certified.html</td>\n      <td>https://en.nissan-dubai.com › nissan-certified</td>\n      <td>09201215-6469-0066-0000-83d5a2bdf605</td>\n      <td>0km Finance</td>\n    </tr>\n    <tr>\n      <th>386</th>\n      <td>organic</td>\n      <td>98</td>\n      <td>99</td>\n      <td>www.quora.com</td>\n      <td>How far can a car go when it says 0 km to empty?</td>\n      <td>Profile photo for David Johansson. David Johan...</td>\n      <td>https://www.quora.com/How-far-can-a-car-go-whe...</td>\n      <td>https://www.quora.com › How-far-can-a-car-go-w...</td>\n      <td>09201215-6469-0066-0000-83d5a2bdf605</td>\n      <td>0km Finance</td>\n    </tr>\n    <tr>\n      <th>387</th>\n      <td>organic</td>\n      <td>99</td>\n      <td>100</td>\n      <td>www.reddit.com</td>\n      <td>CMV: Buying a brand new car is a huge financia...</td>\n      <td>Additionally there's the non-financial benefit...</td>\n      <td>https://www.reddit.com/r/changemyview/comments...</td>\n      <td>https://www.reddit.com › changemyview › commen...</td>\n      <td>09201215-6469-0066-0000-83d5a2bdf605</td>\n      <td>0km Finance</td>\n    </tr>\n  </tbody>\n</table>\n<p>388 rows × 10 columns</p>\n</div>"
     },
     "execution_count": 12,
     "metadata": {},
     "output_type": "execute_result"
    }
   ],
   "source": [
    "pd.merge(task_get_df, task_post_df, on='id', validate='many_to_one')"
   ],
   "metadata": {
    "collapsed": false
   }
  }
 ],
 "metadata": {
  "kernelspec": {
   "display_name": "Python 3",
   "language": "python",
   "name": "python3"
  },
  "language_info": {
   "codemirror_mode": {
    "name": "ipython",
    "version": 2
   },
   "file_extension": ".py",
   "mimetype": "text/x-python",
   "name": "python",
   "nbconvert_exporter": "python",
   "pygments_lexer": "ipython2",
   "version": "2.7.6"
  }
 },
 "nbformat": 4,
 "nbformat_minor": 0
}
